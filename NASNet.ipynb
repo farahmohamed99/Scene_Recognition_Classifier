{
  "nbformat": 4,
  "nbformat_minor": 0,
  "metadata": {
    "colab": {
      "name": "NASNet.ipynb",
      "provenance": [],
      "collapsed_sections": [],
      "machine_shape": "hm"
    },
    "kernelspec": {
      "name": "python3",
      "display_name": "Python 3"
    },
    "accelerator": "GPU"
  },
  "cells": [
    {
      "cell_type": "code",
      "metadata": {
        "id": "pk9fbbZVWyKx",
        "colab_type": "code",
        "colab": {}
      },
      "source": [
        "!pip uninstall -y kaggle\n",
        "!pip install kaggle==1.5.6\n",
        "!kaggle competitions download -c fcis-sc-deeplearning-competition\n",
        "!unzip /content/fcis-sc-deeplearning-competition.zip"
      ],
      "execution_count": null,
      "outputs": []
    },
    {
      "cell_type": "code",
      "metadata": {
        "id": "rGlzMWCKqEsE",
        "colab_type": "code",
        "colab": {}
      },
      "source": [
        "from google.colab import drive\n",
        "drive.mount('/content/drive')\n",
        "!unzip  '/content/drive/My Drive/test.zip'"
      ],
      "execution_count": null,
      "outputs": []
    },
    {
      "cell_type": "code",
      "metadata": {
        "id": "syVauaRvYBop",
        "colab_type": "code",
        "colab": {}
      },
      "source": [
        "from tqdm import tqdm\n",
        "import numpy as np\n",
        "import matplotlib.pyplot as plt\n",
        "from PIL import Image\n",
        "import keras\n",
        "import os\n",
        "import pandas as pd\n",
        "import tqdm\n",
        "from keras.preprocessing.image import ImageDataGenerator\n",
        "from keras import Model, layers\n",
        "from keras.models import load_model, model_from_json\n",
        "from keras.applications.nasnet import NASNetLarge\n",
        "from keras.applications.nasnet import preprocess_input\n",
        "from keras.preprocessing import image\n",
        "import PIL\n",
        "\n",
        "\n",
        "TEST_DIR = '/content/test/test'\n",
        "TRAIN_DIR = '/content/train/train'\n",
        "\n",
        "\n",
        "train_datagen = ImageDataGenerator(\n",
        "    shear_range=10,\n",
        "    zoom_range=0.2,\n",
        "    horizontal_flip=True,\n",
        "    preprocessing_function=preprocess_input)\n",
        "\n",
        "train_generator = train_datagen.flow_from_directory(\n",
        "    TRAIN_DIR,\n",
        "    batch_size=32,\n",
        "    class_mode='categorical',\n",
        "    target_size=(331,331))\n",
        "\n",
        "conv_base = NASNetLarge(\n",
        "    include_top=False,\n",
        "    weights='imagenet')\n",
        "for layer in conv_base.layers:\n",
        "    layer.trainable = False\n",
        "x = conv_base.output\n",
        "x = layers.GlobalAveragePooling2D()(x)\n",
        "x = layers.Dense(128, activation='relu')(x) \n",
        "predictions = layers.Dense(10, activation='softmax')(x)\n",
        "model = Model(conv_base.input, predictions)\n",
        "\n",
        "optimizer = keras.optimizers.Adam()\n",
        "from keras.optimizers import SGD\n",
        "model.compile(optimizer=optimizer, loss='categorical_crossentropy', metrics=['accuracy'])\n",
        "step_size_train = train_generator.n//train_generator.batch_size\n",
        "\n",
        "model.fit_generator(train_generator,samples_per_epoch = step_size_train, epochs = 46)\n",
        "model.save('NAS')\n",
        "testing_pre = []\n",
        "\n",
        "for imagep in os.listdir(TEST_DIR):\n",
        "    image_path = os.path.join(TEST_DIR, imagep)\n",
        "    img = image.load_img(image_path, target_size=(331,331))\n",
        "    x = image.img_to_array(img)\n",
        "    x = np.expand_dims(x, axis = 0)\n",
        "    x = preprocess_input(x)\n",
        "    preds = model.predict(x)\n",
        "    #print(imagep, preds, np.argmax(preds) + 1)\n",
        "    testing_pre.append([imagep,np.argmax(preds) + 1])\n",
        "\n",
        "Csv = pd.DataFrame(testing_pre)\n",
        "Csv.to_csv(\"subm1.csv\")"
      ],
      "execution_count": null,
      "outputs": []
    }
  ]
}