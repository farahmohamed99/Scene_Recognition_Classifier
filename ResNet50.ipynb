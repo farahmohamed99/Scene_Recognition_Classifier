{
  "nbformat": 4,
  "nbformat_minor": 0,
  "metadata": {
    "colab": {
      "name": "ResNet50.ipynb",
      "provenance": []
    },
    "kernelspec": {
      "name": "python3",
      "display_name": "Python 3"
    }
  },
  "cells": [
    {
      "cell_type": "code",
      "metadata": {
        "id": "6oPKjyLlL6MZ",
        "colab_type": "code",
        "colab": {}
      },
      "source": [
        "!pip uninstall -y kaggle\n",
        "!pip install kaggle==1.5.6\n",
        "!kaggle competitions download -c fcis-sc-deeplearning-competition\n",
        "!unzip /content/fcis-sc-deeplearning-competition.zip"
      ],
      "execution_count": null,
      "outputs": []
    },
    {
      "cell_type": "code",
      "metadata": {
        "id": "ZPua26L-qNrk",
        "colab_type": "code",
        "colab": {}
      },
      "source": [
        "from google.colab import drive\n",
        "drive.mount('/content/drive')\n",
        "!unzip  '/content/drive/My Drive/test.zip'"
      ],
      "execution_count": null,
      "outputs": []
    },
    {
      "cell_type": "code",
      "metadata": {
        "id": "vFP9LualMHkS",
        "colab_type": "code",
        "colab": {}
      },
      "source": [
        "import numpy as np\n",
        "import matplotlib.pyplot as plt\n",
        "from PIL import Image\n",
        "import keras\n",
        "from keras.preprocessing.image import ImageDataGenerator\n",
        "from keras.applications import ResNet50\n",
        "from keras.applications.resnet50 import preprocess_input\n",
        "from keras import Model, layers\n",
        "from keras.models import load_model, model_from_json\n",
        "import tensorflow as tf\n",
        "import PIL\n",
        "from keras.applications.resnet50 import ResNet50\n",
        "from keras.preprocessing import image\n",
        "from keras.applications.resnet50 import preprocess_input\n",
        "import numpy as np\n",
        "import os\n",
        "import pandas as pd\n",
        "\n",
        "\n",
        "TEST_DIR = '/content/test/test'\n",
        "TRAIN_DIR = '/content/train/train'\n",
        "\n",
        "train_datagen = ImageDataGenerator(\n",
        "    shear_range=10,\n",
        "    zoom_range=0.2,\n",
        "    horizontal_flip=True,\n",
        "    preprocessing_function=preprocess_input)\n",
        "\n",
        "train_generator = train_datagen.flow_from_directory(\n",
        "    TRAIN_DIR,\n",
        "    batch_size=32,\n",
        "    class_mode='categorical',\n",
        "    target_size=(224,224))\n",
        "\n",
        "conv_base = ResNet50(\n",
        "    include_top=False,\n",
        "    weights='imagenet')\n",
        "\n",
        "for layer in conv_base.layers:\n",
        "    layer.trainable = False\n",
        "x = conv_base.output\n",
        "x = layers.GlobalAveragePooling2D()(x)\n",
        "x = layers.Dense(128, activation='relu')(x) \n",
        "predictions = layers.Dense(10, activation='softmax')(x)\n",
        "model = Model(conv_base.input, predictions)\n",
        "\n",
        "optimizer = keras.optimizers.Adam()\n",
        "from keras.optimizers import SGD\n",
        "model.compile(optimizer=optimizer, loss='categorical_crossentropy', metrics=['accuracy'])\n",
        "\n",
        "model.fit_generator(generator=train_generator,\n",
        "                              samples_per_epoch = 3138 // 32,  # added in Kaggle\n",
        "                              epochs = 20,\n",
        "                              validation_data=0,\n",
        "                              validation_steps=10  # added in Kaggle\n",
        "                             )\n",
        "\n",
        "\n",
        "\n",
        "testing_pre = []\n",
        "\n",
        "for imagep in os.listdir(TEST_DIR):\n",
        "    image_path = os.path.join(TEST_DIR, imagep)\n",
        "    img = image.load_img(image_path, target_size=(224,224))\n",
        "    x = image.img_to_array(img)\n",
        "    x = np.expand_dims(x, axis = 0)\n",
        "    x = preprocess_input(x)\n",
        "    preds = model.predict(x)\n",
        "    print(imagep, preds, np.argmax(preds) + 1)\n",
        "    testing_pre.append([imagep,np.argmax(preds) + 1])\n",
        "\n",
        "Csv = pd.DataFrame(testing_pre)\n",
        "Csv.to_csv(\"subm1.csv\")"
      ],
      "execution_count": null,
      "outputs": []
    }
  ]
}